{
 "cells": [
  {
   "cell_type": "code",
   "execution_count": 2,
   "metadata": {},
   "outputs": [],
   "source": [
    "import pandas as pd\n",
    "import numpy as np\n",
    "from helper import *"
   ]
  },
  {
   "cell_type": "code",
   "execution_count": 3,
   "metadata": {},
   "outputs": [
    {
     "name": "stdout",
     "output_type": "stream",
     "text": [
      "Data shape: (28067, 113)\n",
      "Data head:\n",
      "   Property Id        Property Name Year Ending  \\\n",
      "0         7365                 1155  12/31/2020   \n",
      "1         8139                  200  12/31/2020   \n",
      "2         8604                  114  12/31/2020   \n",
      "3         8841                  733  12/31/2020   \n",
      "4        11809  Conde Nast Building  12/31/2020   \n",
      "\n",
      "   NYC Borough, Block and Lot (BBL) NYC Building Identification Number (BIN)  \\\n",
      "0                      1.009970e+09                                  1022631   \n",
      "1                      1.013150e+09                                  1037545   \n",
      "2                      1.009990e+09                                  1022667   \n",
      "3                      1.013190e+09                                  1037596   \n",
      "4                      1.009950e+09                                  1085682   \n",
      "\n",
      "                         Address 1 Postcode  \\\n",
      "0  1155  Avenue  of  the  Americas    10036   \n",
      "1             200  East  42nd  St.    10017   \n",
      "2              114  West  47th  st    10036   \n",
      "3               733  Third  Avenue    10017   \n",
      "4                   4 Times Square    10036   \n",
      "\n",
      "  Primary Property Type - Self Selected  \\\n",
      "0                                Office   \n",
      "1                                Office   \n",
      "2                      Financial Office   \n",
      "3                                Office   \n",
      "4                                Office   \n",
      "\n",
      "  Primary Property Type - Portfolio Manager-Calculated  \\\n",
      "0                                             Office     \n",
      "1                                             Office     \n",
      "2                                   Financial Office     \n",
      "3                                             Office     \n",
      "4                                             Office     \n",
      "\n",
      "  National Median Reference Property Type  ...  \\\n",
      "0         CBECS - Office & Bank/Financial  ...   \n",
      "1         CBECS - Office & Bank/Financial  ...   \n",
      "2         CBECS - Office & Bank/Financial  ...   \n",
      "3         CBECS - Office & Bank/Financial  ...   \n",
      "4         CBECS - Office & Bank/Financial  ...   \n",
      "\n",
      "  Number of Active Energy Meters - Used to Compute Metrics  \\\n",
      "0                                                  4         \n",
      "1                                                  5         \n",
      "2                                                  7         \n",
      "3                                                  5         \n",
      "4                                                  5         \n",
      "\n",
      "          Generation Date            Release Date    Borough Community Board  \\\n",
      "0  05/20/2021 02:43:12 PM  05/20/2021 02:44:16 PM  MANHATTAN           105.0   \n",
      "1  05/20/2021 02:43:12 PM  05/20/2021 02:44:16 PM  MANHATTAN           106.0   \n",
      "2  05/21/2021 04:10:56 PM  05/21/2021 04:13:00 PM  MANHATTAN           105.0   \n",
      "3  05/20/2021 02:43:13 PM  05/20/2021 02:44:16 PM  MANHATTAN           106.0   \n",
      "4  05/10/2021 06:30:37 PM  05/10/2021 06:34:54 PM  MANHATTAN           105.0   \n",
      "\n",
      "  Council District Census Tract                      NTA  Longitude   Latitude  \n",
      "0              4.0        119.0    Midtown-Midtown South -73.982826  40.756631  \n",
      "1              4.0         88.0  Turtle Bay-East Midtown -73.974306  40.750698  \n",
      "2              4.0        125.0    Midtown-Midtown South -73.982504  40.758310  \n",
      "3              4.0         90.0  Turtle Bay-East Midtown -73.972753  40.753074  \n",
      "4              4.0        119.0    Midtown-Midtown South -73.986244  40.756181  \n",
      "\n",
      "[5 rows x 113 columns]\n"
     ]
    },
    {
     "name": "stderr",
     "output_type": "stream",
     "text": [
      "/var/folders/x5/bpzm5rm93fz73p0v851qytl80000gn/T/ipykernel_66147/2887431767.py:5: DtypeWarning: Columns (12) have mixed types. Specify dtype option on import or set low_memory=False.\n",
      "  ll84_all = pd.read_csv('/Users/luchen/Documents/MSUA/2023Spring/Capstone/datasets/nyc_energy.csv')\n"
     ]
    }
   ],
   "source": [
    "#####################################\n",
    "#### read cleaned csv data to df ####\n",
    "#####################################\n",
    "\n",
    "ll84_all = pd.read_csv('/Users/luchen/Documents/MSUA/2023Spring/Capstone/datasets/nyc_energy.csv')\n",
    "ll84_all['NYC Borough, Block and Lot (BBL)'] = ll84_all['NYC Borough, Block and Lot (BBL)'].apply(lambda x: pd.to_numeric(x, errors='coerce') if x != 'Not Available' else np.nan)\n",
    "print_df_info(ll84_all)"
   ]
  },
  {
   "cell_type": "code",
   "execution_count": 4,
   "metadata": {},
   "outputs": [
    {
     "name": "stderr",
     "output_type": "stream",
     "text": [
      "/var/folders/x5/bpzm5rm93fz73p0v851qytl80000gn/T/ipykernel_66147/2317958079.py:1: DtypeWarning: Columns (17,18,20,22,24,25,52) have mixed types. Specify dtype option on import or set low_memory=False.\n",
      "  pluto = pd.read_csv('/Users/luchen/Documents/MSUA/2023Spring/Capstone/datasets/PLUTO/Primary_Land_Use_Tax_Lot_Output__PLUTO_.csv')\n"
     ]
    },
    {
     "name": "stdout",
     "output_type": "stream",
     "text": [
      "Data shape: (858619, 101)\n",
      "Data head:\n",
      "  borough  block  lot  community board  census tract 2010  cb2010  schooldist  \\\n",
      "0      BK   1809   16            303.0              265.0  2001.0        13.0   \n",
      "1      BK   6183   33            311.0              266.0  3000.0        20.0   \n",
      "2      BK   6206   22            311.0              268.0  3000.0        20.0   \n",
      "3      BK   1852   37            303.0              269.0  1001.0        13.0   \n",
      "4      BK   5893    8            310.0              130.0  2001.0        20.0   \n",
      "\n",
      "   council district  postcode firecomp  ...  landmkdate  basempdate  masdate  \\\n",
      "0              36.0   11216.0     E235  ...         NaN         NaN      NaN   \n",
      "1              47.0   11204.0     L168  ...         NaN         NaN      NaN   \n",
      "2              47.0   11204.0     L168  ...         NaN         NaN      NaN   \n",
      "3              36.0   11216.0     E235  ...         NaN         NaN      NaN   \n",
      "4              43.0   11209.0     L109  ...         NaN         NaN      NaN   \n",
      "\n",
      "  polidate edesigdate geom dcpedited notes    bct2020     bctcb2020  \n",
      "0      NaN        NaN  NaN       NaN   NaN  3026500.0  3.026500e+10  \n",
      "1      NaN        NaN  NaN       NaN   NaN  3026600.0  3.026600e+10  \n",
      "2      NaN        NaN  NaN       NaN   NaN  3026800.0  3.026800e+10  \n",
      "3      NaN        NaN  NaN       NaN   NaN  3026900.0  3.026900e+10  \n",
      "4      NaN        NaN  NaN       NaN   NaN  3013000.0  3.013000e+10  \n",
      "\n",
      "[5 rows x 101 columns]\n"
     ]
    }
   ],
   "source": [
    "pluto = pd.read_csv('/Users/luchen/Documents/MSUA/2023Spring/Capstone/datasets/PLUTO/Primary_Land_Use_Tax_Lot_Output__PLUTO_.csv')\n",
    "print_df_info(pluto)"
   ]
  },
  {
   "cell_type": "code",
   "execution_count": 5,
   "metadata": {},
   "outputs": [
    {
     "name": "stdout",
     "output_type": "stream",
     "text": [
      "Data shape: (28067, 213)\n",
      "Data head:\n",
      "   Property Id        Property Name Year Ending  \\\n",
      "0         7365                 1155  12/31/2020   \n",
      "1         8139                  200  12/31/2020   \n",
      "2         8604                  114  12/31/2020   \n",
      "3         8841                  733  12/31/2020   \n",
      "4        11809  Conde Nast Building  12/31/2020   \n",
      "\n",
      "   NYC Borough, Block and Lot (BBL) NYC Building Identification Number (BIN)  \\\n",
      "0                      1.009970e+09                                  1022631   \n",
      "1                      1.013150e+09                                  1037545   \n",
      "2                      1.009990e+09                                  1022667   \n",
      "3                      1.013190e+09                                  1037596   \n",
      "4                      1.009950e+09                                  1085682   \n",
      "\n",
      "                         Address 1 Postcode  \\\n",
      "0  1155  Avenue  of  the  Americas    10036   \n",
      "1             200  East  42nd  St.    10017   \n",
      "2              114  West  47th  st    10036   \n",
      "3               733  Third  Avenue    10017   \n",
      "4                   4 Times Square    10036   \n",
      "\n",
      "  Primary Property Type - Self Selected  \\\n",
      "0                                Office   \n",
      "1                                Office   \n",
      "2                      Financial Office   \n",
      "3                                Office   \n",
      "4                                Office   \n",
      "\n",
      "  Primary Property Type - Portfolio Manager-Calculated  \\\n",
      "0                                             Office     \n",
      "1                                             Office     \n",
      "2                                   Financial Office     \n",
      "3                                             Office     \n",
      "4                                             Office     \n",
      "\n",
      "  National Median Reference Property Type  ... landmkdate basempdate masdate  \\\n",
      "0         CBECS - Office & Bank/Financial  ...        NaN        NaN     NaN   \n",
      "1         CBECS - Office & Bank/Financial  ...        NaN        NaN     NaN   \n",
      "2         CBECS - Office & Bank/Financial  ...        NaN        NaN     NaN   \n",
      "3         CBECS - Office & Bank/Financial  ...        NaN        NaN     NaN   \n",
      "4         CBECS - Office & Bank/Financial  ...        NaN        NaN     NaN   \n",
      "\n",
      "  polidate edesigdate geom dcpedited  notes    bct2020     bctcb2020  \n",
      "0      NaN        NaN  NaN       NaN    NaN  1011900.0  1.011900e+10  \n",
      "1      NaN        NaN  NaN       NaN    NaN  1008800.0  1.008800e+10  \n",
      "2      NaN        NaN  NaN       NaN    NaN  1012500.0  1.012500e+10  \n",
      "3      NaN        NaN  NaN       NaN    NaN  1009000.0  1.009001e+10  \n",
      "4      NaN        NaN  NaN         t    NaN  1011900.0  1.011900e+10  \n",
      "\n",
      "[5 rows x 213 columns]\n"
     ]
    }
   ],
   "source": [
    "# merge pluto and ll84 data on BBL\n",
    "joined_df = pd.merge(ll84_all, pluto, how='left', left_on='NYC Borough, Block and Lot (BBL)', right_on='bbl')\n",
    "joined_df = joined_df.drop(columns=['bbl'])\n",
    "print_df_info(joined_df)"
   ]
  },
  {
   "cell_type": "code",
   "execution_count": 6,
   "metadata": {},
   "outputs": [
    {
     "name": "stdout",
     "output_type": "stream",
     "text": [
      "Data shape: (3281, 213)\n",
      "Data head:\n",
      "   Property Id        Property Name Year Ending  \\\n",
      "0         7365                 1155  12/31/2020   \n",
      "1         8139                  200  12/31/2020   \n",
      "3         8841                  733  12/31/2020   \n",
      "4        11809  Conde Nast Building  12/31/2020   \n",
      "9      1052478         140 Broadway  12/31/2020   \n",
      "\n",
      "   NYC Borough, Block and Lot (BBL) NYC Building Identification Number (BIN)  \\\n",
      "0                      1.009970e+09                                  1022631   \n",
      "1                      1.013150e+09                                  1037545   \n",
      "3                      1.013190e+09                                  1037596   \n",
      "4                      1.009950e+09                                  1085682   \n",
      "9                      1.000480e+09                                  1001027   \n",
      "\n",
      "                         Address 1 Postcode  \\\n",
      "0  1155  Avenue  of  the  Americas    10036   \n",
      "1             200  East  42nd  St.    10017   \n",
      "3               733  Third  Avenue    10017   \n",
      "4                   4 Times Square    10036   \n",
      "9                     140 Broadway    10005   \n",
      "\n",
      "  Primary Property Type - Self Selected  \\\n",
      "0                                Office   \n",
      "1                                Office   \n",
      "3                                Office   \n",
      "4                                Office   \n",
      "9                                Office   \n",
      "\n",
      "  Primary Property Type - Portfolio Manager-Calculated  \\\n",
      "0                                             Office     \n",
      "1                                             Office     \n",
      "3                                             Office     \n",
      "4                                             Office     \n",
      "9                                             Office     \n",
      "\n",
      "  National Median Reference Property Type  ... landmkdate basempdate masdate  \\\n",
      "0         CBECS - Office & Bank/Financial  ...        NaN        NaN     NaN   \n",
      "1         CBECS - Office & Bank/Financial  ...        NaN        NaN     NaN   \n",
      "3         CBECS - Office & Bank/Financial  ...        NaN        NaN     NaN   \n",
      "4         CBECS - Office & Bank/Financial  ...        NaN        NaN     NaN   \n",
      "9         CBECS - Office & Bank/Financial  ...        NaN        NaN     NaN   \n",
      "\n",
      "  polidate edesigdate geom dcpedited  notes    bct2020     bctcb2020  \n",
      "0      NaN        NaN  NaN       NaN    NaN  1011900.0  1.011900e+10  \n",
      "1      NaN        NaN  NaN       NaN    NaN  1008800.0  1.008800e+10  \n",
      "3      NaN        NaN  NaN       NaN    NaN  1009000.0  1.009001e+10  \n",
      "4      NaN        NaN  NaN         t    NaN  1011900.0  1.011900e+10  \n",
      "9      NaN        NaN  NaN         t    NaN  1000700.0  1.000700e+10  \n",
      "\n",
      "[5 rows x 213 columns]\n"
     ]
    }
   ],
   "source": [
    "office_joined = filter_df(joined_df, 'Office', 'Largest Property Use Type', '2nd Largest Property Use Type', '3rd Largest Property Use Type')\n",
    "print_df_info(office_joined)"
   ]
  },
  {
   "cell_type": "code",
   "execution_count": null,
   "metadata": {},
   "outputs": [],
   "source": [
    "# run a simple descriptive analysis on the data grouped by largest property use type\n",
    "stats_df = office_joined.groupby('Largest Property Use Type')['Total Energy Cost'].agg(['mean', 'median', 'std', 'count'])"
   ]
  },
  {
   "cell_type": "code",
   "execution_count": null,
   "metadata": {},
   "outputs": [],
   "source": []
  }
 ],
 "metadata": {
  "kernelspec": {
   "display_name": "Python 3",
   "language": "python",
   "name": "python3"
  },
  "language_info": {
   "codemirror_mode": {
    "name": "ipython",
    "version": 3
   },
   "file_extension": ".py",
   "mimetype": "text/x-python",
   "name": "python",
   "nbconvert_exporter": "python",
   "pygments_lexer": "ipython3",
   "version": "3.9.6"
  },
  "orig_nbformat": 4
 },
 "nbformat": 4,
 "nbformat_minor": 2
}
