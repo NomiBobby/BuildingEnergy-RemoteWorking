{
 "cells": [
  {
   "cell_type": "code",
   "execution_count": 1,
   "metadata": {},
   "outputs": [],
   "source": [
    "# import libraries\n",
    "import pandas as pd\n",
    "import numpy as np\n",
    "import matplotlib.pyplot as plt\n",
    "import seaborn as sns\n",
    "from sklearn.model_selection import train_test_split\n",
    "from sklearn.linear_model import LinearRegression\n",
    "from sklearn import metrics"
   ]
  },
  {
   "cell_type": "code",
   "execution_count": 11,
   "metadata": {},
   "outputs": [
    {
     "name": "stdout",
     "output_type": "stream",
     "text": [
      "Data shape: (4815, 15)\n",
      "  country_region_code country_region sub_region_1  sub_region_2  metro_area  \\\n",
      "0                  US  United States     New York  Bronx County         NaN   \n",
      "1                  US  United States     New York  Bronx County         NaN   \n",
      "2                  US  United States     New York  Bronx County         NaN   \n",
      "3                  US  United States     New York  Bronx County         NaN   \n",
      "4                  US  United States     New York  Bronx County         NaN   \n",
      "\n",
      "   iso_3166_2_code  census_fips_code                     place_id        date  \\\n",
      "0              NaN           36005.0  ChIJBUEf6ovgwokRwlazSIxIpsk  2020-02-15   \n",
      "1              NaN           36005.0  ChIJBUEf6ovgwokRwlazSIxIpsk  2020-02-16   \n",
      "2              NaN           36005.0  ChIJBUEf6ovgwokRwlazSIxIpsk  2020-02-17   \n",
      "3              NaN           36005.0  ChIJBUEf6ovgwokRwlazSIxIpsk  2020-02-18   \n",
      "4              NaN           36005.0  ChIJBUEf6ovgwokRwlazSIxIpsk  2020-02-19   \n",
      "\n",
      "   retail_and_recreation_percent_change_from_baseline  \\\n",
      "0                                                0.0    \n",
      "1                                               -1.0    \n",
      "2                                                3.0    \n",
      "3                                               -2.0    \n",
      "4                                                2.0    \n",
      "\n",
      "   grocery_and_pharmacy_percent_change_from_baseline  \\\n",
      "0                                               -8.0   \n",
      "1                                               -4.0   \n",
      "2                                               -8.0   \n",
      "3                                               -6.0   \n",
      "4                                               -6.0   \n",
      "\n",
      "   parks_percent_change_from_baseline  \\\n",
      "0                                -5.0   \n",
      "1                                 5.0   \n",
      "2                               -11.0   \n",
      "3                               -11.0   \n",
      "4                                 0.0   \n",
      "\n",
      "   transit_stations_percent_change_from_baseline  \\\n",
      "0                                           -3.0   \n",
      "1                                           -2.0   \n",
      "2                                          -22.0   \n",
      "3                                           -7.0   \n",
      "4                                           -6.0   \n",
      "\n",
      "   workplaces_percent_change_from_baseline  \\\n",
      "0                                      0.0   \n",
      "1                                     -2.0   \n",
      "2                                    -38.0   \n",
      "3                                    -10.0   \n",
      "4                                     -9.0   \n",
      "\n",
      "   residential_percent_change_from_baseline  \n",
      "0                                       1.0  \n",
      "1                                       0.0  \n",
      "2                                      10.0  \n",
      "3                                       3.0  \n",
      "4                                       2.0  \n"
     ]
    }
   ],
   "source": [
    "# pre-process nyc mobility data\n",
    "\n",
    "# load nyc data\n",
    "nyc_mobility_2020 = pd.read_csv('/Users/luchen/Documents/MSUA/Capstone/datasets/Google Mobility Data/nyc_mobility_2020.csv', na_values='')\n",
    "nyc_mobility_2021 = pd.read_csv('/Users/luchen/Documents/MSUA/Capstone/datasets/Google Mobility Data/nyc_mobility_2020.csv', na_values='')\n",
    "nyc_mobility_2022 = pd.read_csv('/Users/luchen/Documents/MSUA/Capstone/datasets/Google Mobility Data/nyc_mobility_2020.csv', na_values='')\n",
    "\n",
    "# merge nyc data\n",
    "nyc_mobility = pd.concat([nyc_mobility_2020, nyc_mobility_2021, nyc_mobility_2022], ignore_index=True)\n",
    "nyc_mobility = nyc_mobility.drop(['month', 'day'], axis=1)\n",
    "\n",
    "print(\"Data shape:\", nyc_mobility.shape)\n",
    "print(nyc_mobility.head())"
   ]
  },
  {
   "cell_type": "code",
   "execution_count": null,
   "metadata": {},
   "outputs": [],
   "source": [
    "# filter nyc counties data\n",
    "mobility_2020 = all_mobility_2020.dropna(subset=['sub_region_2'])"
   ]
  }
 ],
 "metadata": {
  "kernelspec": {
   "display_name": "Python 3",
   "language": "python",
   "name": "python3"
  },
  "language_info": {
   "codemirror_mode": {
    "name": "ipython",
    "version": 3
   },
   "file_extension": ".py",
   "mimetype": "text/x-python",
   "name": "python",
   "nbconvert_exporter": "python",
   "pygments_lexer": "ipython3",
   "version": "3.9.6"
  },
  "orig_nbformat": 4
 },
 "nbformat": 4,
 "nbformat_minor": 2
}
