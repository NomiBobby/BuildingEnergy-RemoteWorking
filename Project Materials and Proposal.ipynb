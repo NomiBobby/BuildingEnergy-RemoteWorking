{
 "cells": [
  {
   "attachments": {},
   "cell_type": "markdown",
   "metadata": {},
   "source": [
    "# Intern Project - Existing Materials, Topics and Proposal\n",
    "Lu Chen      \n",
    "Jun 15 2023\n",
    "\n"
   ]
  },
  {
   "attachments": {},
   "cell_type": "markdown",
   "metadata": {},
   "source": [
    "# Introduction\n",
    "The COVID-19 pandemic has provided a unique window to study the profound influence of human behavior on urban energy consumption, transportation, and other facets of urban life. Forced by the global health crisis and the consequential policies, such as lockdowns, society has embraced unprecedented lifestyle shifts, most notably remote work. During this period, we witnessed a mass exodus from densely populated metropolitan areas, and intriguingly, some individuals opted to remain in less dense areas even post-pandemic. This global event has inadvertently orchestrated a large-scale experiment, dividing our lives into pre-pandemic, pandemic, and post-pandemic phases. Despite the tragedy of the disease, it is crucial that we seize this opportunity to understand how diverse societal groups have adapted to the pandemic and how their behavioral changes have reshaped urban spaces and environments. In an attempt to quantify these shifts, I aim to utilize mobility and energy consumption data.\n",
    "\n",
    "## Research Question\n",
    "1. What is the worldwide trend of working from home (WFH) during and post the COVID-19 pandemic, and what factors might account for the observed variations?\n",
    "2. How has building energy consumption responded to the pandemic, and what variables might explain the differences in changes across various regions or types of buildings?\n",
    "\n"
   ]
  },
  {
   "attachments": {},
   "cell_type": "markdown",
   "metadata": {},
   "source": [
    "# Worldwide Trend of Working from Home\n",
    "### **My idea about this part**\n",
    "- [o] I think this part could be great for a side project. I could visualize the analysis results using Urban, shows general trend of it.\n",
    "- [?] WFH data doesn't have much 3D factors, it might not look great and might not be the best way to showcase Urban."
   ]
  },
  {
   "attachments": {},
   "cell_type": "markdown",
   "metadata": {},
   "source": [
    "## Data Source\n",
    "### 1. WFH population and socio-economic characteristics\n",
    "American Community Survey (ACS) 2021 (5-Year Estimates) https://www.socialexplorer.com/data/ACS2021_5y\n",
    "\n",
    "These variables were selected because they are anticipated to have a substantial effect on the WFH trend.\n",
    " - Dependent Variable: WFH rate\n",
    "                       *This variable was derived from \"Means of Transportation to Work for Workers 16 Years and Over\" data.*\n",
    "- Explanatory Variables:\n",
    "    - Population: The total county population was utilized as a measurement of county size.\n",
    "    - High education level: The percentage of the population with a Bachelor's degree or higher.\n",
    "    - High household Income: The percentage of households with incomes exceeding $200,000.\n",
    "    - Occupation: the percentage of the population employed in three industries with a higher likelihood of WFH and three industries with a lower likelihood of WFH based on experience. \n",
    "        - High likelihood industries: \"Information\", \"Finance and Insurance, and Real Estate and Rental and Leasing\", and \"Professional, Scientific, and Management, and Administrative and Waste Management Services\".\n",
    "        - Low likelihood industries: \"Construction\", \"Manufacturing\" and \"Retail Trade\".\n",
    "\n",
    "### 2. Detailed daily mobility data during pandemic\n",
    "Google's Covid-19 Community Mobility Report https://www.google.com/covid19/mobility/\n",
    "Duration: 2020-02-15 to 2022-10-15\n",
    "\n",
    "The reports charted movement trends over time by geography, across different categories of places such as retail and recreation, groceries and pharmacies, parks, transit stations, workplaces, and residential.\n",
    "\n",
    "Baseline\n",
    "\n",
    "The data shows how visitors to (or time spent in) categorized places change compared to our baseline days. A baseline day represents a normal value for that day of the week. The baseline day is the median value from the 5‑week period Jan 3 – Feb 6, 2020.\n",
    "\n",
    "For each region-category, the baseline isn’t a single value—it’s 7 individual values. The same number of visitors on 2 different days of the week, result in different percentage changes. So, we recommend the following:\n",
    "\n"
   ]
  }
 ],
 "metadata": {
  "kernelspec": {
   "display_name": "Python 3",
   "language": "python",
   "name": "python3"
  },
  "language_info": {
   "codemirror_mode": {
    "name": "ipython",
    "version": 3
   },
   "file_extension": ".py",
   "mimetype": "text/x-python",
   "name": "python",
   "nbconvert_exporter": "python",
   "pygments_lexer": "ipython3",
   "version": "3.9.6"
  },
  "orig_nbformat": 4
 },
 "nbformat": 4,
 "nbformat_minor": 2
}
